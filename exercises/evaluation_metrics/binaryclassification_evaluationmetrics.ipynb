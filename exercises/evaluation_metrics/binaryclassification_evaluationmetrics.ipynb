{
 "cells": [
  {
   "cell_type": "code",
   "execution_count": 32,
   "id": "3ba1498e",
   "metadata": {},
   "outputs": [],
   "source": [
    "from sklearn import metrics\n",
    "import numpy as np\n",
    "import matplotlib.pyplot as plt"
   ]
  },
  {
   "cell_type": "markdown",
   "id": "0040ebbc",
   "metadata": {},
   "source": [
    "1 -> relevant\n",
    "0 -> non-relevant"
   ]
  },
  {
   "cell_type": "code",
   "execution_count": 5,
   "id": "86bf756f",
   "metadata": {},
   "outputs": [],
   "source": [
    "def get_tp(true, pred):\n",
    "    tp_sum = 0\n",
    "    for t, p in zip(true, pred):\n",
    "        if t == 1 and p == 1:\n",
    "            tp_sum += 1\n",
    "            \n",
    "    return tp_sum"
   ]
  },
  {
   "cell_type": "code",
   "execution_count": 6,
   "id": "a82b8032",
   "metadata": {},
   "outputs": [],
   "source": [
    "def get_fp(true, pred):\n",
    "    fp_sum = 0\n",
    "    for t, p in zip(true, pred):\n",
    "        if t == 0 and p == 1:\n",
    "            fp_sum += 1\n",
    "            \n",
    "    return fp_sum"
   ]
  },
  {
   "cell_type": "code",
   "execution_count": 7,
   "id": "a3b388f1",
   "metadata": {},
   "outputs": [],
   "source": [
    "def get_fn(true, pred):\n",
    "    fn_sum = 0\n",
    "    for t, p in zip(true, pred):\n",
    "        if t == 1 and p == 0:\n",
    "            fn_sum += 1\n",
    "            \n",
    "    return fn_sum"
   ]
  },
  {
   "cell_type": "code",
   "execution_count": 8,
   "id": "99403e1c",
   "metadata": {},
   "outputs": [],
   "source": [
    "def get_tn(true, pred):\n",
    "    tn_sum = 0\n",
    "    for t, p in zip(true, pred):\n",
    "        if t == 0 and p == 0:\n",
    "            tn_sum += 1\n",
    "            \n",
    "    return tn_sum"
   ]
  },
  {
   "cell_type": "code",
   "execution_count": 9,
   "id": "e2fa6962",
   "metadata": {},
   "outputs": [],
   "source": [
    "def precision(true, pred):\n",
    "    tp = get_tp(true, pred)\n",
    "    fp = get_fp(true, pred)\n",
    "    \n",
    "    return tp/(tp+fp)"
   ]
  },
  {
   "cell_type": "code",
   "execution_count": 10,
   "id": "00b53816",
   "metadata": {},
   "outputs": [],
   "source": [
    "def recall(true, pred):\n",
    "    tp = get_tp(true, pred)\n",
    "    fn = get_fn(true, pred)\n",
    "    \n",
    "    return tp/(tp+fn)"
   ]
  },
  {
   "cell_type": "code",
   "execution_count": 11,
   "id": "74bda329",
   "metadata": {},
   "outputs": [],
   "source": [
    "def get_tpr(true, pred):\n",
    "    \n",
    "    return recall(true, pred)"
   ]
  },
  {
   "cell_type": "code",
   "execution_count": 42,
   "id": "07e4c39d",
   "metadata": {},
   "outputs": [],
   "source": [
    "def get_fpr(true, pred):\n",
    "    \n",
    "    tn = get_tn(true, pred)\n",
    "    fp = get_fp(true, pred)\n",
    "    \n",
    "    return fp/(tn+fp)"
   ]
  },
  {
   "cell_type": "code",
   "execution_count": 13,
   "id": "c4e8c32b",
   "metadata": {},
   "outputs": [],
   "source": [
    "def f1_score(recall, precision):\n",
    "    \n",
    "    return (2 * recall * precision)/(recall+precision)"
   ]
  },
  {
   "cell_type": "code",
   "execution_count": 14,
   "id": "64b8dd82",
   "metadata": {},
   "outputs": [],
   "source": [
    "def accuracy_2(true, pred):\n",
    "            \n",
    "    return (get_tp(true, pred)+get_tn(true, pred))/len(true)"
   ]
  },
  {
   "cell_type": "code",
   "execution_count": 58,
   "id": "972f4bc8",
   "metadata": {},
   "outputs": [],
   "source": [
    "def calculate_logloss(true, pred):\n",
    "    \n",
    "    loss_list = []\n",
    "    e = 1e-15\n",
    "    \n",
    "    for t, p in zip(true, pred):\n",
    "        p = np.clip(p, e, 1-e)\n",
    "        loss = -1.0 * ((t * np.log(p)) + ((1-t) * np.log(1-p)))\n",
    "        loss_list.append(loss)\n",
    "    \n",
    "    return np.mean(loss_list)"
   ]
  },
  {
   "cell_type": "code",
   "execution_count": 15,
   "id": "3e18a5d3",
   "metadata": {},
   "outputs": [],
   "source": [
    "def accuracy(true, pred):\n",
    "    tpn_sum = 0\n",
    "    for t, p in zip(true, pred):\n",
    "        if t == p:\n",
    "            tpn_sum += 1\n",
    "            \n",
    "    return tpn_sum/len(true)"
   ]
  },
  {
   "cell_type": "code",
   "execution_count": 16,
   "id": "25edf1ad",
   "metadata": {},
   "outputs": [],
   "source": [
    "true = [0, 1, 1, 0, 1, 0, 0, 1, 1, 1, 0, 0, 1]\n",
    "pred = [0, 1, 1, 1, 0, 0, 1, 0, 1, 1, 1, 0, 1]"
   ]
  },
  {
   "cell_type": "code",
   "execution_count": 17,
   "id": "394b823c",
   "metadata": {},
   "outputs": [
    {
     "data": {
      "text/plain": [
       "0.6153846153846154"
      ]
     },
     "execution_count": 17,
     "metadata": {},
     "output_type": "execute_result"
    }
   ],
   "source": [
    "acc_sk = metrics.accuracy_score(true, pred)\n",
    "acc_def = accuracy(true, pred)\n",
    "acc_def_2 = accuracy_2(true, pred)\n",
    "assert acc_sk == acc_def == acc_def_2\n",
    "acc_def"
   ]
  },
  {
   "cell_type": "code",
   "execution_count": 18,
   "id": "f14245d3",
   "metadata": {},
   "outputs": [
    {
     "data": {
      "text/plain": [
       "0.625"
      ]
     },
     "execution_count": 18,
     "metadata": {},
     "output_type": "execute_result"
    }
   ],
   "source": [
    "prec_sk = metrics.precision_score(true, pred)\n",
    "prec_def = precision(true, pred)\n",
    "assert prec_sk == prec_def\n",
    "prec_def"
   ]
  },
  {
   "cell_type": "code",
   "execution_count": 19,
   "id": "0226ec36",
   "metadata": {},
   "outputs": [
    {
     "data": {
      "text/plain": [
       "0.7142857142857143"
      ]
     },
     "execution_count": 19,
     "metadata": {},
     "output_type": "execute_result"
    }
   ],
   "source": [
    "recall_sk = metrics.recall_score(true, pred)\n",
    "recall_def = recall(true, pred)\n",
    "assert recall_sk == recall_def\n",
    "recall_def"
   ]
  },
  {
   "cell_type": "code",
   "execution_count": 20,
   "id": "3b64a344",
   "metadata": {},
   "outputs": [
    {
     "data": {
      "text/plain": [
       "0.6666666666666666"
      ]
     },
     "execution_count": 20,
     "metadata": {},
     "output_type": "execute_result"
    }
   ],
   "source": [
    "f1score_sk = metrics.f1_score(true, pred)\n",
    "f1score_def = f1_score(recall(true, pred), precision(true, pred))\n",
    "assert f1score_sk == f1score_def\n",
    "f1score_def"
   ]
  },
  {
   "cell_type": "code",
   "execution_count": 21,
   "id": "41a871ce",
   "metadata": {},
   "outputs": [
    {
     "data": {
      "text/plain": [
       "0.7142857142857143"
      ]
     },
     "execution_count": 21,
     "metadata": {},
     "output_type": "execute_result"
    }
   ],
   "source": [
    "true_positive_rate = get_tpr(true, pred)\n",
    "true_positive_rate"
   ]
  },
  {
   "cell_type": "code",
   "execution_count": 24,
   "id": "45ed00c1",
   "metadata": {},
   "outputs": [
    {
     "data": {
      "text/plain": [
       "0.375"
      ]
     },
     "execution_count": 24,
     "metadata": {},
     "output_type": "execute_result"
    }
   ],
   "source": [
    "false_postive_rate = get_fpr(true, pred)\n",
    "false_postive_rate"
   ]
  },
  {
   "cell_type": "code",
   "execution_count": 25,
   "id": "c146fe25",
   "metadata": {},
   "outputs": [],
   "source": [
    "true = [0, 1, 1, 0, 1, 0, 0, 1, 1, 1, 0, 0, 1]\n",
    "pred = [0.234, 0.876, 0.742, 0.981, 0.453, 0.128, 0.834, 0.321, 0.643, 0.45, 0.354, 0.9865, 0.456]"
   ]
  },
  {
   "cell_type": "code",
   "execution_count": 29,
   "id": "db4f7588",
   "metadata": {},
   "outputs": [],
   "source": [
    "thresholds = [0, 0.1, 0.2, 0.3, 0.4, 0.5, 0.6, 0.7, 0.8, 0.9]"
   ]
  },
  {
   "cell_type": "code",
   "execution_count": 37,
   "id": "24a13c48",
   "metadata": {},
   "outputs": [],
   "source": [
    "precisions = []\n",
    "recalls = []\n",
    "for th in thresholds:\n",
    "    th_pred = [1 if p >= th else 0 for p in pred]\n",
    "    precisions.append(precision(true, th_pred))\n",
    "    recalls.append(recall(true, th_pred))"
   ]
  },
  {
   "cell_type": "code",
   "execution_count": 38,
   "id": "3bd5da08",
   "metadata": {},
   "outputs": [
    {
     "data": {
      "text/plain": [
       "Text(0, 0.5, 'precision')"
      ]
     },
     "execution_count": 38,
     "metadata": {},
     "output_type": "execute_result"
    },
    {
     "data": {
      "image/png": "[encoded data removed]",
      "text/plain": [
       "<Figure size 432x288 with 1 Axes>"
      ]
     },
     "metadata": {
      "needs_background": "light"
     },
     "output_type": "display_data"
    }
   ],
   "source": [
    "plt.plot(recalls, precisions)\n",
    "plt.xlabel('recall')\n",
    "plt.ylabel('precision')"
   ]
  },
  {
   "cell_type": "code",
   "execution_count": 43,
   "id": "fc33ce62",
   "metadata": {},
   "outputs": [],
   "source": [
    "tpr_list = []\n",
    "fpr_list = []\n",
    "for th in thresholds:\n",
    "    th_pred = [1 if p >= th else 0 for p in pred]\n",
    "    tpr_list.append(precision(true, th_pred))\n",
    "    fpr_list.append(recall(true, th_pred))"
   ]
  },
  {
   "cell_type": "code",
   "execution_count": 44,
   "id": "eb8c8469",
   "metadata": {},
   "outputs": [
    {
     "data": {
      "image/png": "[encoded data removed]",
      "text/plain": [
       "<Figure size 432x288 with 1 Axes>"
      ]
     },
     "metadata": {
      "needs_background": "light"
     },
     "output_type": "display_data"
    }
   ],
   "source": [
    "plt.fill_between(fpr_list, tpr_list, alpha=0.4)\n",
    "plt.plot(fpr_list, tpr_list, lw=3)\n",
    "plt.xlabel('fpr')\n",
    "plt.ylabel('tpr')\n",
    "plt.xlim(0, 1.0)\n",
    "plt.ylim(0, 1.0)\n",
    "plt.show()"
   ]
  },
  {
   "cell_type": "code",
   "execution_count": 45,
   "id": "0408062e",
   "metadata": {},
   "outputs": [
    {
     "data": {
      "text/plain": [
       "0.5"
      ]
     },
     "execution_count": 45,
     "metadata": {},
     "output_type": "execute_result"
    }
   ],
   "source": [
    "auc_roc_score = metrics.roc_auc_score(true, pred)\n",
    "auc_roc_score"
   ]
  },
  {
   "cell_type": "code",
   "execution_count": 59,
   "id": "8f6871dc",
   "metadata": {},
   "outputs": [
    {
     "data": {
      "text/plain": [
       "1.1760767213180812"
      ]
     },
     "execution_count": 59,
     "metadata": {},
     "output_type": "execute_result"
    }
   ],
   "source": [
    "logloss_sk = metrics.log_loss(true, pred)\n",
    "logloss_def = calculate_logloss(true, pred)\n",
    "assert logloss_sk == logloss_def\n",
    "logloss_def"
   ]
  },
  {
   "cell_type": "code",
   "execution_count": 23,
   "id": "db4860de",
   "metadata": {},
   "outputs": [
    {
     "ename": "SyntaxError",
     "evalue": "invalid syntax (<ipython-input-23-5c4377dd2200>, line 1)",
     "output_type": "error",
     "traceback": [
      "\u001b[0;36m  File \u001b[0;32m\"<ipython-input-23-5c4377dd2200>\"\u001b[0;36m, line \u001b[0;32m1\u001b[0m\n\u001b[0;31m    precision-recall curve, auc/roc\u001b[0m\n\u001b[0m                         ^\u001b[0m\n\u001b[0;31mSyntaxError\u001b[0m\u001b[0;31m:\u001b[0m invalid syntax\n"
     ]
    }
   ],
   "source": [
    "logloss, multiclass , micro, macro, weighted, confusion matrix, P@k, map@k, "
   ]
  }
 ],
 "metadata": {
  "kernelspec": {
   "display_name": "Python 3",
   "language": "python",
   "name": "python3"
  },
  "language_info": {
   "codemirror_mode": {
    "name": "ipython",
    "version": 3
   },
   "file_extension": ".py",
   "mimetype": "text/x-python",
   "name": "python",
   "nbconvert_exporter": "python",
   "pygments_lexer": "ipython3",
   "version": "3.7.6"
  }
 },
 "nbformat": 4,
 "nbformat_minor": 5
}
